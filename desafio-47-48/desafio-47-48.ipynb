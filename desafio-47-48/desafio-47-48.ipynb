{
 "cells": [
  {
   "cell_type": "code",
   "execution_count": 1,
   "metadata": {},
   "outputs": [],
   "source": [
    "import pandas as pd"
   ]
  },
  {
   "cell_type": "code",
   "execution_count": 7,
   "metadata": {},
   "outputs": [],
   "source": [
    "df = pd.read_csv('winequality-red.csv', sep=';')"
   ]
  },
  {
   "cell_type": "code",
   "execution_count": 8,
   "metadata": {},
   "outputs": [
    {
     "name": "stdout",
     "output_type": "stream",
     "text": [
      "   fixed acidity  volatile acidity  citric acid  residual sugar  chlorides  \\\n",
      "0            7.4              0.70         0.00             1.9      0.076   \n",
      "1            7.8              0.88         0.00             2.6      0.098   \n",
      "2            7.8              0.76         0.04             2.3      0.092   \n",
      "3           11.2              0.28         0.56             1.9      0.075   \n",
      "4            7.4              0.70         0.00             1.9      0.076   \n",
      "\n",
      "   free sulfur dioxide  total sulfur dioxide  density    pH  sulphates  \\\n",
      "0                 11.0                  34.0   0.9978  3.51       0.56   \n",
      "1                 25.0                  67.0   0.9968  3.20       0.68   \n",
      "2                 15.0                  54.0   0.9970  3.26       0.65   \n",
      "3                 17.0                  60.0   0.9980  3.16       0.58   \n",
      "4                 11.0                  34.0   0.9978  3.51       0.56   \n",
      "\n",
      "   alcohol  quality  \n",
      "0      9.4        5  \n",
      "1      9.8        5  \n",
      "2      9.8        5  \n",
      "3      9.8        6  \n",
      "4      9.4        5  \n"
     ]
    }
   ],
   "source": [
    "print(df.head())"
   ]
  },
  {
   "cell_type": "code",
   "execution_count": 9,
   "metadata": {},
   "outputs": [
    {
     "name": "stdout",
     "output_type": "stream",
     "text": [
      "<bound method NDFrame.describe of       fixed acidity  volatile acidity  citric acid  residual sugar  chlorides  \\\n",
      "0               7.4             0.700         0.00             1.9      0.076   \n",
      "1               7.8             0.880         0.00             2.6      0.098   \n",
      "2               7.8             0.760         0.04             2.3      0.092   \n",
      "3              11.2             0.280         0.56             1.9      0.075   \n",
      "4               7.4             0.700         0.00             1.9      0.076   \n",
      "...             ...               ...          ...             ...        ...   \n",
      "1594            6.2             0.600         0.08             2.0      0.090   \n",
      "1595            5.9             0.550         0.10             2.2      0.062   \n",
      "1596            6.3             0.510         0.13             2.3      0.076   \n",
      "1597            5.9             0.645         0.12             2.0      0.075   \n",
      "1598            6.0             0.310         0.47             3.6      0.067   \n",
      "\n",
      "      free sulfur dioxide  total sulfur dioxide  density    pH  sulphates  \\\n",
      "0                    11.0                  34.0  0.99780  3.51       0.56   \n",
      "1                    25.0                  67.0  0.99680  3.20       0.68   \n",
      "2                    15.0                  54.0  0.99700  3.26       0.65   \n",
      "3                    17.0                  60.0  0.99800  3.16       0.58   \n",
      "4                    11.0                  34.0  0.99780  3.51       0.56   \n",
      "...                   ...                   ...      ...   ...        ...   \n",
      "1594                 32.0                  44.0  0.99490  3.45       0.58   \n",
      "1595                 39.0                  51.0  0.99512  3.52       0.76   \n",
      "1596                 29.0                  40.0  0.99574  3.42       0.75   \n",
      "1597                 32.0                  44.0  0.99547  3.57       0.71   \n",
      "1598                 18.0                  42.0  0.99549  3.39       0.66   \n",
      "\n",
      "      alcohol  quality  \n",
      "0         9.4        5  \n",
      "1         9.8        5  \n",
      "2         9.8        5  \n",
      "3         9.8        6  \n",
      "4         9.4        5  \n",
      "...       ...      ...  \n",
      "1594     10.5        5  \n",
      "1595     11.2        6  \n",
      "1596     11.0        6  \n",
      "1597     10.2        5  \n",
      "1598     11.0        6  \n",
      "\n",
      "[1599 rows x 12 columns]>\n"
     ]
    }
   ],
   "source": [
    "print(df.describe)"
   ]
  },
  {
   "cell_type": "code",
   "execution_count": 10,
   "metadata": {},
   "outputs": [
    {
     "name": "stdout",
     "output_type": "stream",
     "text": [
      "8\n"
     ]
    }
   ],
   "source": [
    "# verificando a maior qualidade \n",
    "max_quality = df['quality'].max()\n",
    "print(max_quality)"
   ]
  },
  {
   "cell_type": "code",
   "execution_count": 15,
   "metadata": {},
   "outputs": [
    {
     "name": "stdout",
     "output_type": "stream",
     "text": [
      "      fixed acidity  volatile acidity  citric acid  residual sugar  chlorides  \\\n",
      "267             7.9              0.35         0.46             3.6      0.078   \n",
      "278            10.3              0.32         0.45             6.4      0.073   \n",
      "390             5.6              0.85         0.05             1.4      0.045   \n",
      "440            12.6              0.31         0.72             2.2      0.072   \n",
      "455            11.3              0.62         0.67             5.2      0.086   \n",
      "481             9.4              0.30         0.56             2.8      0.080   \n",
      "495            10.7              0.35         0.53             2.6      0.070   \n",
      "498            10.7              0.35         0.53             2.6      0.070   \n",
      "588             5.0              0.42         0.24             2.0      0.060   \n",
      "828             7.8              0.57         0.09             2.3      0.065   \n",
      "1061            9.1              0.40         0.50             1.8      0.071   \n",
      "1090           10.0              0.26         0.54             1.9      0.083   \n",
      "1120            7.9              0.54         0.34             2.5      0.076   \n",
      "1202            8.6              0.42         0.39             1.8      0.068   \n",
      "1269            5.5              0.49         0.03             1.8      0.044   \n",
      "1403            7.2              0.33         0.33             1.7      0.061   \n",
      "1449            7.2              0.38         0.31             2.0      0.056   \n",
      "1549            7.4              0.36         0.30             1.8      0.074   \n",
      "\n",
      "      free sulfur dioxide  total sulfur dioxide  density    pH  sulphates  \\\n",
      "267                  15.0                  37.0  0.99730  3.35       0.86   \n",
      "278                   5.0                  13.0  0.99760  3.23       0.82   \n",
      "390                  12.0                  88.0  0.99240  3.56       0.82   \n",
      "440                   6.0                  29.0  0.99870  2.88       0.82   \n",
      "455                   6.0                  19.0  0.99880  3.22       0.69   \n",
      "481                   6.0                  17.0  0.99640  3.15       0.92   \n",
      "495                   5.0                  16.0  0.99720  3.15       0.65   \n",
      "498                   5.0                  16.0  0.99720  3.15       0.65   \n",
      "588                  19.0                  50.0  0.99170  3.72       0.74   \n",
      "828                  34.0                  45.0  0.99417  3.46       0.74   \n",
      "1061                  7.0                  16.0  0.99462  3.21       0.69   \n",
      "1090                 42.0                  74.0  0.99451  2.98       0.63   \n",
      "1120                  8.0                  17.0  0.99235  3.20       0.72   \n",
      "1202                  6.0                  12.0  0.99516  3.35       0.69   \n",
      "1269                 28.0                  87.0  0.99080  3.50       0.82   \n",
      "1403                  3.0                  13.0  0.99600  3.23       1.10   \n",
      "1449                 15.0                  29.0  0.99472  3.23       0.76   \n",
      "1549                 17.0                  24.0  0.99419  3.24       0.70   \n",
      "\n",
      "      alcohol  quality  \n",
      "267      12.8        8  \n",
      "278      12.6        8  \n",
      "390      12.9        8  \n",
      "440       9.8        8  \n",
      "455      13.4        8  \n",
      "481      11.7        8  \n",
      "495      11.0        8  \n",
      "498      11.0        8  \n",
      "588      14.0        8  \n",
      "828      12.7        8  \n",
      "1061     12.5        8  \n",
      "1090     11.8        8  \n",
      "1120     13.1        8  \n",
      "1202     11.7        8  \n",
      "1269     14.0        8  \n",
      "1403     10.0        8  \n",
      "1449     11.3        8  \n",
      "1549     11.4        8  \n"
     ]
    }
   ],
   "source": [
    "# todos os vinhos com a maior qualidade\n",
    "best_quality_wine = df[df['quality'] == max_quality]\n",
    "print(best_quality_wine)"
   ]
  },
  {
   "cell_type": "code",
   "execution_count": 16,
   "metadata": {},
   "outputs": [
    {
     "name": "stdout",
     "output_type": "stream",
     "text": [
      "Número de vinhos com maior qualidade (8): 18\n"
     ]
    }
   ],
   "source": [
    "# contar número de vinhos com maior qualidade\n",
    "count_max_quality = best_quality_wine.shape[0]\n",
    "print(f'Número de vinhos com maior qualidade ({max_quality}): {count_max_quality}')"
   ]
  },
  {
   "cell_type": "code",
   "execution_count": 17,
   "metadata": {},
   "outputs": [
    {
     "name": "stdout",
     "output_type": "stream",
     "text": [
      "       fixed acidity  volatile acidity  citric acid  residual sugar  \\\n",
      "count      18.000000         18.000000    18.000000       18.000000   \n",
      "mean        8.566667          0.423333     0.391111        2.577778   \n",
      "std         2.119656          0.144914     0.199526        1.295038   \n",
      "min         5.000000          0.260000     0.030000        1.400000   \n",
      "25%         7.250000          0.335000     0.302500        1.800000   \n",
      "50%         8.250000          0.370000     0.420000        2.100000   \n",
      "75%        10.225000          0.472500     0.530000        2.600000   \n",
      "max        12.600000          0.850000     0.720000        6.400000   \n",
      "\n",
      "       chlorides  free sulfur dioxide  total sulfur dioxide    density  \\\n",
      "count  18.000000            18.000000             18.000000  18.000000   \n",
      "mean    0.068444            13.277778             33.444444   0.995212   \n",
      "std     0.011678            11.155613             25.433240   0.002378   \n",
      "min     0.044000             3.000000             12.000000   0.990800   \n",
      "25%     0.062000             6.000000             16.000000   0.994175   \n",
      "50%     0.070500             7.500000             21.500000   0.994940   \n",
      "75%     0.075500            16.500000             43.000000   0.997200   \n",
      "max     0.086000            42.000000             88.000000   0.998800   \n",
      "\n",
      "              pH  sulphates    alcohol  quality  \n",
      "count  18.000000  18.000000  18.000000     18.0  \n",
      "mean    3.267222   0.767778  12.094444      8.0  \n",
      "std     0.200640   0.115379   1.224011      0.0  \n",
      "min     2.880000   0.630000   9.800000      8.0  \n",
      "25%     3.162500   0.690000  11.325000      8.0  \n",
      "50%     3.230000   0.740000  12.150000      8.0  \n",
      "75%     3.350000   0.820000  12.875000      8.0  \n",
      "max     3.720000   1.100000  14.000000      8.0  \n"
     ]
    }
   ],
   "source": [
    "# características\n",
    "print(best_quality_wine.describe())"
   ]
  },
  {
   "cell_type": "code",
   "execution_count": 21,
   "metadata": {},
   "outputs": [],
   "source": [
    "import matplotlib.pyplot as plt\n",
    "import seaborn as sns"
   ]
  },
  {
   "cell_type": "code",
   "execution_count": 22,
   "metadata": {},
   "outputs": [
    {
     "data": {
      "text/plain": [
       "<function matplotlib.pyplot.show(close=None, block=None)>"
      ]
     },
     "execution_count": 22,
     "metadata": {},
     "output_type": "execute_result"
    },
    {
     "data": {
      "image/png": "[encoded data removed]",
      "text/plain": [
       "<Figure size 1000x600 with 1 Axes>"
      ]
     },
     "metadata": {},
     "output_type": "display_data"
    }
   ],
   "source": [
    "plt.figure(figsize=(10,6))\n",
    "sns.countplot(data=best_quality_wine, x='quality')\n",
    "plt.title('Contagem de vinhos melhor qualidade')\n",
    "plt.xlabel('Qualidade')\n",
    "plt.ylabel('Contagem')\n",
    "plt.show"
   ]
  },
  {
   "cell_type": "code",
   "execution_count": 23,
   "metadata": {},
   "outputs": [
    {
     "data": {
      "image/png": "[encoded data removed]",
      "text/plain": [
       "<Figure size 1200x600 with 1 Axes>"
      ]
     },
     "metadata": {},
     "output_type": "display_data"
    }
   ],
   "source": [
    "# comparar teor alcoolico\n",
    "plt.figure(figsize=(12, 6))\n",
    "sns.boxplot(x='quality', y='alcohol', data=df)\n",
    "plt.title('Distribuição do Teor Alcoólico por Qualidade do Vinho')\n",
    "plt.xlabel('Qualidade')\n",
    "plt.ylabel('Teor Alcoólico')\n",
    "plt.show()"
   ]
  }
 ],
 "metadata": {
  "kernelspec": {
   "display_name": "Python 3",
   "language": "python",
   "name": "python3"
  },
  "language_info": {
   "codemirror_mode": {
    "name": "ipython",
    "version": 3
   },
   "file_extension": ".py",
   "mimetype": "text/x-python",
   "name": "python",
   "nbconvert_exporter": "python",
   "pygments_lexer": "ipython3",
   "version": "3.12.5"
  }
 },
 "nbformat": 4,
 "nbformat_minor": 2
}
